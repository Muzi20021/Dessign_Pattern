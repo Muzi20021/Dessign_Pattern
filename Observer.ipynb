{
  "nbformat": 4,
  "nbformat_minor": 0,
  "metadata": {
    "colab": {
      "provenance": []
    },
    "kernelspec": {
      "name": "python3",
      "display_name": "Python 3"
    },
    "language_info": {
      "name": "python"
    }
  },
  "cells": [
    {
      "cell_type": "code",
      "execution_count": 1,
      "metadata": {
        "colab": {
          "base_uri": "https://localhost:8080/"
        },
        "id": "1NeTIj7ZerZm",
        "outputId": "46c2d11f-f96e-4471-f62e-b4084eda69d5"
      },
      "outputs": [
        {
          "output_type": "stream",
          "name": "stdout",
          "text": [
            "None\n",
            "Kasia has been notified: 'Śmieszna Opowieść' is now available!\n",
            "Jan has been notified: 'Śmieszna Opowieść' is now available!\n",
            "None\n",
            "'Śmieszna Opowieść' status changed to borrowed.\n",
            "Kasia has been notified: 'Fajna Książka' is now available!\n",
            "Jan has been notified: 'Fajna Książka' is now available!\n",
            "'Fajna Książka' status changed to available.\n"
          ]
        }
      ],
      "source": [
        "class LibraryCatalog:\n",
        "    def __init__(self):\n",
        "        self.books = []\n",
        "        self.observers = []\n",
        "\n",
        "    def add_book(self, title, available=True):\n",
        "        self.books.append({\"title\": title, \"available\": available})\n",
        "        if available:\n",
        "            self.notify_observers(title)\n",
        "\n",
        "    def change_book_status(self, title, available):\n",
        "        for book in self.books:\n",
        "            if book[\"title\"].lower() == title.lower():\n",
        "                book[\"available\"] = available\n",
        "                if available:\n",
        "                    self.notify_observers(title)\n",
        "                return f\"'{title}' status changed to {'available' if available else 'borrowed'}.\"\n",
        "        return f\"'{title}' not found.\"\n",
        "\n",
        "    def add_observer(self, observer):\n",
        "        self.observers.append(observer)\n",
        "\n",
        "    def notify_observers(self, book_title):\n",
        "        for observer in self.observers:\n",
        "            observer.update(book_title)\n",
        "\n",
        "\n",
        "class User:\n",
        "    def __init__(self, name):\n",
        "        self.name = name\n",
        "\n",
        "    def update(self, book_title):\n",
        "        print(f\"{self.name} has been notified: '{book_title}' is now available!\")\n",
        "\n",
        "\n",
        "if __name__ == \"__main__\":\n",
        "    catalog = LibraryCatalog()\n",
        "\n",
        "    # Creating users\n",
        "    kasia = User(\"Kasia\")\n",
        "    jan = User(\"Jan\")\n",
        "\n",
        "    # Adding observers\n",
        "    catalog.add_observer(kasia)\n",
        "    catalog.add_observer(jan)\n",
        "\n",
        "    # Adding books\n",
        "    print(catalog.add_book(\"Fajna Książka\", available=False))\n",
        "    print(catalog.add_book(\"Śmieszna Opowieść\"))\n",
        "\n",
        "    # Changing book status\n",
        "    print(catalog.change_book_status(\"Śmieszna Opowieść\", available=False))\n",
        "    print(catalog.change_book_status(\"Fajna Książka\", available=True))\n"
      ]
    }
  ]
}