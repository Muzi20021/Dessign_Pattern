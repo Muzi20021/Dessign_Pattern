{
  "nbformat": 4,
  "nbformat_minor": 0,
  "metadata": {
    "colab": {
      "provenance": []
    },
    "kernelspec": {
      "name": "python3",
      "display_name": "Python 3"
    },
    "language_info": {
      "name": "python"
    }
  },
  "cells": [
    {
      "cell_type": "code",
      "execution_count": null,
      "metadata": {
        "colab": {
          "base_uri": "https://localhost:8080/"
        },
        "id": "1NeTIj7ZerZm",
        "outputId": "f3fad5c0-0b11-4b7b-cb05-04702d63963c"
      },
      "outputs": [
        {
          "output_type": "stream",
          "name": "stdout",
          "text": [
            "None\n",
            "Alice has been notified: 'To Kill a Mockingbird' is now available!\n",
            "Bob has been notified: 'To Kill a Mockingbird' is now available!\n",
            "None\n",
            "'To Kill a Mockingbird' status changed to borrowed.\n",
            "Alice has been notified: '1984' is now available!\n",
            "Bob has been notified: '1984' is now available!\n",
            "'1984' status changed to available.\n"
          ]
        }
      ],
      "source": [
        "class LibraryCatalog:\n",
        "    def __init__(self):\n",
        "        self.books = []\n",
        "        self.observers = []\n",
        "\n",
        "    def add_book(self, title, available=True):\n",
        "        \"\"\"Dodaje książkę i powiadamia, jeśli jest dostępna.\"\"\"\n",
        "        self.books.append({\"title\": title, \"available\": available})\n",
        "        if available:\n",
        "            self.notify_observers(title)\n",
        "\n",
        "    def change_book_status(self, title, available):\n",
        "        \"\"\"Zmienia status książki i powiadamia, jeśli stanie się dostępna.\"\"\"\n",
        "        for book in self.books:\n",
        "            if book[\"title\"].lower() == title.lower():\n",
        "                book[\"available\"] = available\n",
        "                if available:\n",
        "                    self.notify_observers(title)\n",
        "                return f\"'{title}' status changed to {'available' if available else 'borrowed'}.\"\n",
        "        return f\"'{title}' not found.\"\n",
        "\n",
        "    def add_observer(self, observer):\n",
        "        \"\"\"Dodaje użytkownika jako obserwatora.\"\"\"\n",
        "        self.observers.append(observer)\n",
        "\n",
        "    def notify_observers(self, book_title):\n",
        "        \"\"\"Powiadamia użytkowników o dostępności książki.\"\"\"\n",
        "        for observer in self.observers:\n",
        "            observer.update(book_title)\n",
        "\n",
        "\n",
        "class User:\n",
        "    def __init__(self, name):\n",
        "        self.name = name\n",
        "\n",
        "    def update(self, book_title):\n",
        "        \"\"\"Wyświetla powiadomienie o dostępności książki.\"\"\"\n",
        "        print(f\"{self.name} has been notified: '{book_title}' is now available!\")\n",
        "\n",
        "\n",
        "\n",
        "if __name__ == \"__main__\":\n",
        "    catalog = LibraryCatalog()\n",
        "\n",
        "\n",
        "    alice = User(\"Alice\")\n",
        "    bob = User(\"Bob\")\n",
        "\n",
        "\n",
        "    catalog.add_observer(alice)\n",
        "    catalog.add_observer(bob)\n",
        "\n",
        "\n",
        "    print(catalog.add_book(\"1984\", available=False))\n",
        "    print(catalog.add_book(\"To Kill a Mockingbird\"))\n",
        "\n",
        "    print(catalog.change_book_status(\"To Kill a Mockingbird\", available=False))\n",
        "\n",
        "\n",
        "\n",
        "\n",
        "\n",
        "\n",
        "\n",
        "    print(catalog.change_book_status(\"1984\", available=True))\n"
      ]
    }
  ]
}