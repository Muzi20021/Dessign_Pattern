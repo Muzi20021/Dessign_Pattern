{
  "nbformat": 4,
  "nbformat_minor": 0,
  "metadata": {
    "colab": {
      "provenance": []
    },
    "kernelspec": {
      "name": "python3",
      "display_name": "Python 3"
    },
    "language_info": {
      "name": "python"
    }
  },
  "cells": [
    {
      "cell_type": "code",
      "execution_count": 1,
      "metadata": {
        "colab": {
          "base_uri": "https://localhost:8080/"
        },
        "id": "1NeTIj7ZerZm",
        "outputId": "c8a10b10-a54b-49ae-aca3-870eadd8dcb7"
      },
      "outputs": [
        {
          "output_type": "stream",
          "name": "stdout",
          "text": [
            "None\n",
            "Alice has been notified: 'To Kill a Mockingbird' is now available!\n",
            "Bob has been notified: 'To Kill a Mockingbird' is now available!\n",
            "None\n",
            "'To Kill a Mockingbird' status changed to borrowed.\n",
            "Alice has been notified: '1984' is now available!\n",
            "Bob has been notified: '1984' is now available!\n",
            "'1984' status changed to available.\n"
          ]
        }
      ],
      "source": [
        "class LibraryCatalog:\n",
        "    def __init__(self):\n",
        "        self.books = []\n",
        "        self.observers = []\n",
        "\n",
        "    def add_book(self, title, available=True):\n",
        "\n",
        "        self.books.append({\"title\": title, \"available\": available})\n",
        "        if available:\n",
        "            self.notify_observers(title)\n",
        "\n",
        "    def change_book_status(self, title, available):\n",
        "\n",
        "        for book in self.books:\n",
        "            if book[\"title\"].lower() == title.lower():\n",
        "                book[\"available\"] = available\n",
        "                if available:\n",
        "                    self.notify_observers(title)\n",
        "                return f\"'{title}' status changed to {'available' if available else 'borrowed'}.\"\n",
        "        return f\"'{title}' not found.\"\n",
        "\n",
        "    def add_observer(self, observer):\n",
        "\n",
        "        self.observers.append(observer)\n",
        "\n",
        "    def notify_observers(self, book_title):\n",
        "\n",
        "        for observer in self.observers:\n",
        "            observer.update(book_title)\n",
        "\n",
        "\n",
        "class User:\n",
        "    def __init__(self, name):\n",
        "        self.name = name\n",
        "\n",
        "    def update(self, book_title):\n",
        "        print(f\"{self.name} has been notified: '{book_title}' is now available!\")\n",
        "\n",
        "\n",
        "\n",
        "if __name__ == \"__main__\":\n",
        "    catalog = LibraryCatalog()\n",
        "\n",
        "\n",
        "    alice = User(\"Alice\")\n",
        "    bob = User(\"Bob\")\n",
        "\n",
        "\n",
        "    catalog.add_observer(alice)\n",
        "    catalog.add_observer(bob)\n",
        "\n",
        "\n",
        "    print(catalog.add_book(\"1984\", available=False))\n",
        "    print(catalog.add_book(\"To Kill a Mockingbird\"))\n",
        "\n",
        "    print(catalog.change_book_status(\"To Kill a Mockingbird\", available=False))\n",
        "\n",
        "\n",
        "\n",
        "\n",
        "\n",
        "\n",
        "\n",
        "    print(catalog.change_book_status(\"1984\", available=True))\n"
      ]
    }
  ]
}