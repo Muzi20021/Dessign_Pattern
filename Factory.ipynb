{
  "nbformat": 4,
  "nbformat_minor": 0,
  "metadata": {
    "colab": {
      "provenance": []
    },
    "kernelspec": {
      "name": "python3",
      "display_name": "Python 3"
    },
    "language_info": {
      "name": "python"
    }
  },
  "cells": [
    {
      "cell_type": "code",
      "execution_count": 1,
      "metadata": {
        "colab": {
          "base_uri": "https://localhost:8080/"
        },
        "id": "xFt3Xa9cgFrM",
        "outputId": "401956e4-d07a-4dea-ebdd-7f25b82b3b90"
      },
      "outputs": [
        {
          "output_type": "stream",
          "name": "stdout",
          "text": [
            "Anna: Can borrow up to 5 books\n",
            "Jan: Can borrow up to 10 books\n",
            "Kasia: Unlimited permissions to borrow books\n",
            "Marek: No permissions to borrow books\n"
          ]
        }
      ],
      "source": [
        "class User:\n",
        "    def __init__(self, name):\n",
        "        self.name = name\n",
        "\n",
        "    def get_permissions(self):\n",
        "        return \"No permissions to borrow books\"\n",
        "\n",
        "\n",
        "class Student(User):\n",
        "    def get_permissions(self):\n",
        "        return \"Can borrow up to 5 books\"\n",
        "\n",
        "\n",
        "class Teacher(User):\n",
        "    def get_permissions(self):\n",
        "        return \"Can borrow up to 10 books\"\n",
        "\n",
        "\n",
        "class Librarian(User):\n",
        "    def get_permissions(self):\n",
        "        return \"Unlimited permissions to borrow books\"\n",
        "\n",
        "\n",
        "class UserFactory:\n",
        "    @staticmethod\n",
        "    def create_user(user_type, name):\n",
        "        if user_type == \"Student\":\n",
        "            return Student(name)\n",
        "        elif user_type == \"Teacher\":\n",
        "            return Teacher(name)\n",
        "        elif user_type == \"Librarian\":\n",
        "            return Librarian(name)\n",
        "        else:\n",
        "            return User(name)\n",
        "\n",
        "\n",
        "if __name__ == \"__main__\":\n",
        "\n",
        "    user1 = UserFactory.create_user(\"Student\", \"Anna\")\n",
        "    user2 = UserFactory.create_user(\"Teacher\", \"Jan\")\n",
        "    user3 = UserFactory.create_user(\"Librarian\", \"Kasia\")\n",
        "    user4 = UserFactory.create_user(\"Guest\", \"Marek\")\n",
        "\n",
        "    print(f\"{user1.name}: {user1.get_permissions()}\")\n",
        "    print(f\"{user2.name}: {user2.get_permissions()}\")\n",
        "    print(f\"{user3.name}: {user3.get_permissions()}\")\n",
        "    print(f\"{user4.name}: {user4.get_permissions()}\")\n"
      ]
    }
  ]
}