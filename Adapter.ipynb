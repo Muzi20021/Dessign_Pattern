{
  "nbformat": 4,
  "nbformat_minor": 0,
  "metadata": {
    "colab": {
      "provenance": []
    },
    "kernelspec": {
      "name": "python3",
      "display_name": "Python 3"
    },
    "language_info": {
      "name": "python"
    }
  },
  "cells": [
    {
      "cell_type": "code",
      "execution_count": null,
      "metadata": {
        "colab": {
          "base_uri": "https://localhost:8080/"
        },
        "id": "jHgLLZbZmVaU",
        "outputId": "83b8ba02-3431-44e4-e0ed-9767f1d4148f"
      },
      "outputs": [
        {
          "output_type": "stream",
          "name": "stdout",
          "text": [
            "Catalog 1 books: ['Book 1', 'Book 2']\n",
            "Catalog 2 books: ['Book 1', 'Book 2']\n",
            "Are catalog1 and catalog2 the same instance? True\n"
          ]
        }
      ],
      "source": [
        "import json\n",
        "\n",
        "class LibraryCatalogAdapter:\n",
        "    @staticmethod\n",
        "    def adapt(data, data_format):\n",
        "        if data_format == \"json\":\n",
        "            return LibraryCatalogAdapter._adapt_json(data)\n",
        "        elif data_format == \"csv\":\n",
        "            return LibraryCatalogAdapter._adapt_csv(data)\n",
        "        else:\n",
        "            raise ValueError(\"Unsupported data format!\")\n",
        "\n",
        "    @staticmethod\n",
        "    def _adapt_json(data):\n",
        "        return json.loads(data)\n",
        "\n",
        "    @staticmethod\n",
        "    def _adapt_csv(data):\n",
        "        books = []\n",
        "        lines = data.strip().split(\"\\n\")\n",
        "        for line in lines:\n",
        "            title, author = line.split(\",\")\n",
        "            books.append({\"title\": title.strip(), \"author\": author.strip()})\n",
        "        return books\n",
        "\n",
        "\n",
        "# Test Adapter\n",
        "if __name__ == \"__main__\":\n",
        "    json_data = '[{\"title\": \"Book 1\", \"author\": \"Author 1\"}, {\"title\": \"Book 2\", \"author\": \"Author 2\"}]'\n",
        "    csv_data = \"Book 3, Author 3\\nBook 4, Author 4\"\n",
        "\n",
        "    adapted_json = LibraryCatalogAdapter.adapt(json_data, \"json\")\n",
        "    adapted_csv = LibraryCatalogAdapter.adapt(csv_data, \"csv\")\n",
        "\n",
        "    print(\"Adapted JSON data:\", adapted_json)\n",
        "    print(\"Adapted CSV data:\", adapted_csv)\n"
      ]
    }
  ]
}