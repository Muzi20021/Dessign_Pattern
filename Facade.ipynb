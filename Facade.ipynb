{
  "nbformat": 4,
  "nbformat_minor": 0,
  "metadata": {
    "colab": {
      "provenance": []
    },
    "kernelspec": {
      "name": "python3",
      "display_name": "Python 3"
    },
    "language_info": {
      "name": "python"
    }
  },
  "cells": [
    {
      "cell_type": "code",
      "execution_count": 1,
      "metadata": {
        "colab": {
          "base_uri": "https://localhost:8080/"
        },
        "id": "mPta1yFdr8fP",
        "outputId": "8607562a-e557-4394-9391-0633f8811026"
      },
      "outputs": [
        {
          "output_type": "stream",
          "name": "stdout",
          "text": [
            "User 'John' added.\n",
            "User 'Doe' added.\n",
            "Book 'Cool Book' by Smith XYZ added to the catalog.\n",
            "Book 'Fun Story' by Jane ABC added to the catalog.\n",
            "Users: ['John', 'Doe']\n",
            "Books: [{'title': 'Cool Book', 'author': 'Smith XYZ', 'borrowed': False}, {'title': 'Fun Story', 'author': 'Jane ABC', 'borrowed': False}]\n",
            "'Cool Book' has been borrowed.\n",
            "'Cool Book' is already borrowed.\n",
            "'Unknown Book' not found.\n"
          ]
        }
      ],
      "source": [
        "class LibraryCatalog:\n",
        "    def __init__(self):\n",
        "        self.books = []\n",
        "\n",
        "    def add_book(self, title, author):\n",
        "        self.books.append({\"title\": title, \"author\": author, \"borrowed\": False})\n",
        "\n",
        "    def find_book(self, title):\n",
        "        for book in self.books:\n",
        "            if book[\"title\"].lower() == title.lower():\n",
        "                return book\n",
        "        return None\n",
        "\n",
        "    def borrow_book(self, title):\n",
        "        book = self.find_book(title)\n",
        "        if book and not book[\"borrowed\"]:\n",
        "            book[\"borrowed\"] = True\n",
        "            return f\"'{title}' has been borrowed.\"\n",
        "        elif book:\n",
        "            return f\"'{title}' is already borrowed.\"\n",
        "        return f\"'{title}' not found.\"\n",
        "\n",
        "\n",
        "class UserManagement:\n",
        "    def __init__(self):\n",
        "        self.users = []\n",
        "\n",
        "    def add_user(self, name):\n",
        "        self.users.append({\"name\": name})\n",
        "\n",
        "    def list_users(self):\n",
        "        return [user[\"name\"] for user in self.users]\n",
        "\n",
        "\n",
        "class LibraryInterface:\n",
        "    def __init__(self):\n",
        "        self.catalog = LibraryCatalog()\n",
        "        self.user_management = UserManagement()\n",
        "\n",
        "    def add_book(self, title, author):\n",
        "        self.catalog.add_book(title, author)\n",
        "        return f\"Book '{title}' by {author} added to the catalog.\"\n",
        "\n",
        "    def borrow_book(self, title):\n",
        "        return self.catalog.borrow_book(title)\n",
        "\n",
        "    def add_user(self, name):\n",
        "        self.user_management.add_user(name)\n",
        "        return f\"User '{name}' added.\"\n",
        "\n",
        "    def list_users(self):\n",
        "        return self.user_management.list_users()\n",
        "\n",
        "    def list_books(self):\n",
        "        return self.catalog.books\n",
        "\n",
        "\n",
        "# Test Fasady\n",
        "if __name__ == \"__main__\":\n",
        "    library = LibraryInterface()\n",
        "\n",
        "    # Adding users\n",
        "    print(library.add_user(\"John\"))\n",
        "    print(library.add_user(\"Doe\"))\n",
        "\n",
        "    # Adding books\n",
        "    print(library.add_book(\"Cool Book\", \"Smith XYZ\"))\n",
        "    print(library.add_book(\"Fun Story\", \"Jane ABC\"))\n",
        "\n",
        "    # Listing users\n",
        "    print(\"Users:\", library.list_users())\n",
        "\n",
        "    # Listing books\n",
        "    print(\"Books:\", library.list_books())\n",
        "\n",
        "    # Borrowing books\n",
        "    print(library.borrow_book(\"Cool Book\"))\n",
        "    print(library.borrow_book(\"Cool Book\"))\n",
        "    print(library.borrow_book(\"Unknown Book\"))\n"
      ]
    }
  ]
}