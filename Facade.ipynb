{
  "nbformat": 4,
  "nbformat_minor": 0,
  "metadata": {
    "colab": {
      "provenance": []
    },
    "kernelspec": {
      "name": "python3",
      "display_name": "Python 3"
    },
    "language_info": {
      "name": "python"
    }
  },
  "cells": [
    {
      "cell_type": "code",
      "execution_count": null,
      "metadata": {
        "colab": {
          "base_uri": "https://localhost:8080/"
        },
        "id": "mPta1yFdr8fP",
        "outputId": "c40c82b3-3966-4aa6-de7a-b6e847b656ff"
      },
      "outputs": [
        {
          "output_type": "stream",
          "name": "stdout",
          "text": [
            "User 'Alice' added.\n",
            "User 'Bob' added.\n",
            "Book '1984' by George Orwell added to the catalog.\n",
            "Book 'To Kill a Mockingbird' by Harper Lee added to the catalog.\n",
            "Users: ['Alice', 'Bob']\n",
            "Books: [{'title': '1984', 'author': 'George Orwell', 'borrowed': False}, {'title': 'To Kill a Mockingbird', 'author': 'Harper Lee', 'borrowed': False}]\n",
            "'1984' has been borrowed.\n",
            "'1984' is already borrowed.\n",
            "'Nonexistent Book' not found.\n"
          ]
        }
      ],
      "source": [
        "class LibraryCatalog:\n",
        "    def __init__(self):\n",
        "        self.books = []\n",
        "\n",
        "    def add_book(self, title, author):\n",
        "        self.books.append({\"title\": title, \"author\": author, \"borrowed\": False})\n",
        "\n",
        "    def find_book(self, title):\n",
        "        for book in self.books:\n",
        "            if book[\"title\"].lower() == title.lower():\n",
        "                return book\n",
        "        return None\n",
        "\n",
        "    def borrow_book(self, title):\n",
        "        book = self.find_book(title)\n",
        "        if book and not book[\"borrowed\"]:\n",
        "            book[\"borrowed\"] = True\n",
        "            return f\"'{title}' has been borrowed.\"\n",
        "        elif book:\n",
        "            return f\"'{title}' is already borrowed.\"\n",
        "        return f\"'{title}' not found.\"\n",
        "\n",
        "\n",
        "class UserManagement:\n",
        "    def __init__(self):\n",
        "        self.users = []\n",
        "\n",
        "    def add_user(self, name):\n",
        "        self.users.append({\"name\": name})\n",
        "\n",
        "    def list_users(self):\n",
        "        return [user[\"name\"] for user in self.users]\n",
        "\n",
        "\n",
        "class LibraryInterface:\n",
        "    def __init__(self):\n",
        "        self.catalog = LibraryCatalog()\n",
        "        self.user_management = UserManagement()\n",
        "\n",
        "    def add_book(self, title, author):\n",
        "        self.catalog.add_book(title, author)\n",
        "        return f\"Book '{title}' by {author} added to the catalog.\"\n",
        "\n",
        "    def borrow_book(self, title):\n",
        "        return self.catalog.borrow_book(title)\n",
        "\n",
        "    def add_user(self, name):\n",
        "        self.user_management.add_user(name)\n",
        "        return f\"User '{name}' added.\"\n",
        "\n",
        "    def list_users(self):\n",
        "        return self.user_management.list_users()\n",
        "\n",
        "    def list_books(self):\n",
        "        return self.catalog.books\n",
        "\n",
        "\n",
        "# Test Fasady\n",
        "if __name__ == \"__main__\":\n",
        "    library = LibraryInterface()\n",
        "\n",
        "    # Dodawanie użytkowników\n",
        "    print(library.add_user(\"Alice\"))\n",
        "    print(library.add_user(\"Bob\"))\n",
        "\n",
        "    # Dodawanie książek\n",
        "    print(library.add_book(\"1984\", \"George Orwell\"))\n",
        "    print(library.add_book(\"To Kill a Mockingbird\", \"Harper Lee\"))\n",
        "\n",
        "    # Lista użytkowników\n",
        "    print(\"Users:\", library.list_users())\n",
        "\n",
        "    # Lista książek\n",
        "    print(\"Books:\", library.list_books())\n",
        "\n",
        "    # Wypożyczanie książek\n",
        "    print(library.borrow_book(\"1984\"))\n",
        "    print(library.borrow_book(\"1984\"))\n",
        "    print(library.borrow_book(\"Nonexistent Book\"))\n"
      ]
    }
  ]
}